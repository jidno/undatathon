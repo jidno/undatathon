{
  "nbformat": 4,
  "nbformat_minor": 0,
  "metadata": {
    "colab": {
      "provenance": []
    },
    "kernelspec": {
      "name": "python3",
      "display_name": "Python 3"
    },
    "language_info": {
      "name": "python"
    }
  },
  "cells": [
    {
      "cell_type": "code",
      "execution_count": 187,
      "metadata": {
        "colab": {
          "base_uri": "https://localhost:8080/",
          "height": 72
        },
        "id": "KZ5mu1b-ILx1",
        "outputId": "7e21450d-997a-4723-f680-fddc218319c2"
      },
      "outputs": [
        {
          "output_type": "display_data",
          "data": {
            "text/plain": [
              "<IPython.core.display.HTML object>"
            ],
            "text/html": []
          },
          "metadata": {}
        },
        {
          "output_type": "stream",
          "name": "stdout",
          "text": [
            "Connected to Antigranular server session id: 9b114730-8966-4a1e-9ebe-ae0d949f2cc6, the session will time out if idle for 60 minutes\n",
            "Cell magic '%%ag' registered successfully, use `%%ag` in a notebook cell to execute your python code on Antigranular private python server\n",
            "🚀 Everything's set up and ready to roll!\n"
          ]
        }
      ],
      "source": [
        "!pip install -q antigranular\n",
        "import antigranular as ag\n",
        "session = ag.login(\"jF5mrZjKiL0y0H4XNRrXvc+S1Ius5Wv0\", \"Sf44gkSvMROSBIAwmxk9CX02LxMwJdb+UsGpHuukxs4AqsY0rFHNWCtGt3i58T/W\", competition = \"UN Datathon PETs Track\")"
      ]
    },
    {
      "cell_type": "code",
      "source": [
        "session.privacy_odometer()"
      ],
      "metadata": {
        "colab": {
          "base_uri": "https://localhost:8080/"
        },
        "id": "VKtJK4zMPBIR",
        "outputId": "4e2eabfc-1f9c-4039-fbab-0e7b18593449"
      },
      "execution_count": 188,
      "outputs": [
        {
          "output_type": "execute_result",
          "data": {
            "text/plain": [
              "{'total_epsilon_used': 19.1045558691777,\n",
              " 'total_delta_used': 1.9300299994,\n",
              " 'library_costs': {'op_pandas': {'total_delta': 0,\n",
              "   'total_epsilon': 19.78820010000003,\n",
              "   'total_requests': 98},\n",
              "  'op_snsynth': {'total_delta': 0.0,\n",
              "   'total_epsilon': 0.2,\n",
              "   'total_requests': 12},\n",
              "  'op_snsql': {'total_delta': 1.9300299994,\n",
              "   'total_epsilon': 14.10435576917766,\n",
              "   'total_requests': 8},\n",
              "  'op_dpl': {'total_delta': 0.0, 'total_epsilon': 2e-20, 'total_requests': 1}},\n",
              " 'dataset_costs': {'undata_weight': {'delta': 0, 'eps': 0.5000000000000003},\n",
              "  'undata_ls': {'delta': 0.0, 'eps': 2.199999999999995},\n",
              "  'undata_income': {'delta': 0, 'eps': 0.9000000000000015},\n",
              "  'undata_crp': {'delta': 0, 'eps': 1.1102000000000063},\n",
              "  'undata_cs': {'delta': 0.29000000000000004, 'eps': 2.2655722534173908},\n",
              "  'undata_other': {'delta': 0.4500099998, 'eps': 4.557737154114319},\n",
              "  'undata_ls_dif': {'delta': 0, 'eps': 0.2999999999999991},\n",
              "  'undata_shock': {'delta': 0.29000000000000004, 'eps': 8.19757215341735},\n",
              "  'undata_adm': {'delta': 0.4500099998, 'eps': 9.191737154114321},\n",
              "  'undata_fcs': {'delta': 0.4500099998, 'eps': 4.757737154114318},\n",
              "  'undata_fish': {'delta': 0, 'eps': 0.00999999999999997},\n",
              "  'undata_hdds': {'delta': 0, 'eps': 0.10200000000000001}}}"
            ]
          },
          "metadata": {},
          "execution_count": 188
        }
      ]
    },
    {
      "cell_type": "code",
      "source": [
        "%%ag\n",
        "from ag_utils import export , load_dataset, ag_print\n",
        "import pandas as pd\n",
        "from op_pandas import PrivateDataFrame\n",
        "import op_pandas"
      ],
      "metadata": {
        "id": "uimTIvcfPkLS"
      },
      "execution_count": 66,
      "outputs": []
    },
    {
      "cell_type": "code",
      "source": [
        "%%ag\n",
        "hist_data = cs_dataset.hist(column=\"cs_sold_more_animals\",bins=[0.0,1.0,2.0,3.0,4.0,888.0,999.0],eps=0.00000000000001)\n",
        "export(hist_data , 'hist_data')"
      ],
      "metadata": {
        "colab": {
          "base_uri": "https://localhost:8080/"
        },
        "id": "TJlJJSKBEgwN",
        "outputId": "24a05206-48be-4761-b97d-18333a208745"
      },
      "execution_count": 111,
      "outputs": [
        {
          "output_type": "stream",
          "name": "stdout",
          "text": [
            "Setting up exported variable in local environment: hist_data\n"
          ]
        }
      ]
    },
    {
      "cell_type": "code",
      "source": [
        "dp_hist  / dp_hist.sum()"
      ],
      "metadata": {
        "colab": {
          "base_uri": "https://localhost:8080/"
        },
        "id": "2WNOlZr1G9qo",
        "outputId": "fee8feb2-6a61-4eea-ec2f-a608436ea1d8"
      },
      "execution_count": 112,
      "outputs": [
        {
          "output_type": "execute_result",
          "data": {
            "text/plain": [
              "array([0.        , 0.03427679, 0.86113304, 0.10459017, 0.        ,\n",
              "       0.        ])"
            ]
          },
          "metadata": {},
          "execution_count": 112
        }
      ]
    },
    {
      "cell_type": "markdown",
      "source": [
        "# Get data"
      ],
      "metadata": {
        "id": "KGudWI3iQAm9"
      }
    },
    {
      "cell_type": "code",
      "source": [
        "%%ag\n",
        "ls = [\n",
        "    \"objectid\",\n",
        "    \"ls_num_lastyr\",\n",
        "    \"ls_num_now\",\n",
        "    \"ls_num_diff\",\n",
        "    \"ls_num_increased\",\n",
        "    \"ls_num_decreased\",\n",
        "    \"ls_num_no_change\",\n",
        "    \"ls_num_inc_less_sales\",\n",
        "    \"ls_num_inc_more_birth\",\n",
        "    \"ls_num_inc_more_acquired\",\n",
        "    \"ls_num_inc_received_free\",\n",
        "    \"ls_num_dec_poor_health\",\n",
        "    \"ls_num_dec_death\",\n",
        "    \"ls_num_dec_sales_good_price\",\n",
        "    \"ls_num_dec_sales_distress\",\n",
        "    \"ls_num_dec_escape_stolen\",\n",
        "    \"ls_num_dec_consumed\",\n",
        "    \"ls_num_inc_dec_other\",\n",
        "    \"ls_num_inc_dec_dk\",\n",
        "    \"ls_num_inc_dec_ref\",\n",
        "    \"ls_feed_open_pasture\",\n",
        "    \"ls_feed_common_pasture\",\n",
        "    \"ls_feed_self_produced\",\n",
        "    \"ls_feed_purchased\",\n",
        "    \"ls_feed_free_dist\",\n",
        "    \"ls_feed_other\",\n",
        "    \"ls_feed_dk\",\n",
        "    \"ls_feed_ref\"\n",
        "]\n",
        "\n",
        "income = [\n",
        "    \"objectid\",\n",
        "    \"income_main\",\n",
        "    \"income_main_amount\",\n",
        "    \"income_main_gender\",\n",
        "    \"income_main_control\",\n",
        "    \"income_main_comp\",\n",
        "    \"income_sec\",\n",
        "    \"income_sec_amount\",\n",
        "    \"income_sec_gender\",\n",
        "    \"income_sec_control\",\n",
        "    \"income_sec_comp\",\n",
        "    \"income_third\",\n",
        "    \"income_third_amount\",\n",
        "    \"income_third_gender\",\n",
        "    \"income_third_control\",\n",
        "    \"income_third_comp\"\n",
        "]\n",
        "crp = [\n",
        "    \"objectid\",\n",
        "    \"crp_landsize_ha\",\n",
        "    \"crp_main\",\n",
        "    \"crp_main_check\",\n",
        "    \"crp_irrig_source\",\n",
        "    \"crp_irrig_system\",\n",
        "    \"crp_irrig_pay\",\n",
        "    \"crp_seed_ownprod\",\n",
        "    \"crp_seed_market\",\n",
        "    \"crp_seed_company\",\n",
        "    \"crp_seed_ngo\",\n",
        "    \"crp_seed_organized_community\",\n",
        "    \"crp_seed_gov\",\n",
        "    \"crp_seed_relatives_friends\",\n",
        "    \"crp_seed_other\",\n",
        "    \"crp_seed_dk\",\n",
        "    \"crp_seed_ref\",\n",
        "    \"crp_area_change\",\n",
        "    \"crp_harv_change\",\n",
        "    \"crp_harv_vol_kg\",\n",
        "    \"crp_harv_lastyr_kg\",\n",
        "    \"crp_proddif\",\n",
        "    \"crp_proddif_plant_disease\",\n",
        "    \"crp_proddif_pest_outbreak\",\n",
        "    \"crp_proddif_animal_grazing\",\n",
        "    \"crp_proddif_access_plot\",\n",
        "    \"crp_proddif_access_fertilize\",\n",
        "    \"crp_proddif_seed_quality\",\n",
        "    \"crp_proddif_seed_quantity\",\n",
        "    \"crp_proddif_access_pesticide\",\n",
        "    \"crp_proddif_access_labour\",\n",
        "    \"crp_proddif_access_machinery\",\n",
        "    \"crp_proddif_access_fuel\",\n",
        "    \"crp_proddif_soil_erosion\",\n",
        "    \"crp_proddif_lack_irrigation\",\n",
        "    \"crp_proddif_excess_water\",\n",
        "    \"crp_proddif_access_credit\",\n",
        "    \"crp_proddif_other\",\n",
        "    \"crp_proddif_dk\",\n",
        "    \"crp_proddif_ref\",\n",
        "    \"crp_storage\"\n",
        "]\n",
        "fish = [\n",
        "    \"objectid\",\n",
        "    \"fish_main_coastal\",\n",
        "    \"fish_main_offshore_sea\",\n",
        "    \"fish_main_freshwater\",\n",
        "    \"fish_main_aquaculture\",\n",
        "    \"fish_main_dk\",\n",
        "    \"fish_main_ref\",\n",
        "    \"fish_salesprice\"\n",
        "]\n",
        "need_received = [\n",
        "    \"objectid\",\n",
        "    \"need_received_food\",\n",
        "    \"need_received_cash\",\n",
        "    \"need_received_vouchers_fair\",\n",
        "    \"need_received_crop_assist\",\n",
        "    \"need_received_ls_assist\",\n",
        "    \"need_received_fish_assist\",\n",
        "    \"need_received_rehabilitation\",\n",
        "    \"need_received_sales_support\",\n",
        "    \"need_received_other\",\n",
        "    \"need_received_none\",\n",
        "    \"need_received_dk\",\n",
        "    \"need_received_ref\"\n",
        "]\n",
        "hh = [\n",
        "    \"objectid\",\n",
        "    \"hh_agricactivity\",\n",
        "    \"hh_gender\",\n",
        "    \"hh_education\",\n",
        "    \"hh_wealth_water\",\n",
        "    \"hh_wealth_toilet\",\n",
        "    \"hh_wealth_light\",\n",
        "    \"hh_residencetype\",\n",
        "    \"hh_size\",\n",
        "    \"hh_maritalstat\",\n",
        "    \"hh_age\"\n",
        "]\n",
        "assistance = [\n",
        "    \"objectid\",\n",
        "    \"assistance_quality\",\n",
        "    \"assistance_fao\",\n",
        "    \"assistance_wfp\",\n",
        "    \"assistance_otherun\",\n",
        "    \"assistance_gov\",\n",
        "    \"assistance_ngo\",\n",
        "    \"assistance_dk\",\n",
        "    \"assistance_ref\"\n",
        "]\n",
        "adm = [\n",
        "    \"objectid\",\n",
        "    \"adm0_name\",\n",
        "    \"adm1_name\",\n",
        "    \"adm2_name\",\n",
        "    \"adm3_name\"\n",
        "]\n",
        "shock = [\n",
        "    \"objectid\",\n",
        "    \"shock_noshock\",\n",
        "    \"shock_sicknessordeathofhh\",\n",
        "    \"shock_lostemplorwork\",\n",
        "    \"shock_otherintrahhshock\",\n",
        "    \"shock_higherfoodprices\",\n",
        "    \"shock_higherfuelprices\",\n",
        "    \"shock_mvtrestrict\",\n",
        "    \"shock_othereconomicshock\",\n",
        "    \"shock_pestoutbreak\",\n",
        "    \"shock_plantdisease\",\n",
        "    \"shock_animaldisease\",\n",
        "    \"shock_napasture\",\n",
        "    \"shock_othercropandlivests\",\n",
        "    \"shock_coldtemporhail\",\n",
        "    \"shock_flood\",\n",
        "    \"shock_hurricane\",\n",
        "    \"shock_drought\",\n",
        "    \"shock_earthquake\",\n",
        "    \"shock_landslides\",\n",
        "    \"shock_firenatural\",\n",
        "    \"shock_othernathazard\",\n",
        "    \"shock_violenceinsecconf\",\n",
        "    \"shock_theftofprodassets\",\n",
        "    \"shock_firemanmade\",\n",
        "    \"shock_othermanmadehazard\",\n",
        "    \"shock_dk\",\n",
        "    \"shock_ref\"\n",
        "]\n",
        "other = [\"objectid\",\"lcsi\"]\n",
        "x_columns = [*ls,  *crp]#,,*income, *fish,*need_received,*hh,*assistance, *adm,*shock ]\n",
        "for i in range(2):\n",
        "  x_columns.remove(\"objectid\")\n",
        "y_columns = [*other]\n",
        "y_columns.remove(\"objectid\")"
      ],
      "metadata": {
        "id": "gVIoz0CHKJD_"
      },
      "execution_count": 209,
      "outputs": []
    },
    {
      "cell_type": "code",
      "source": [
        "%%ag\n",
        "undata_ls_dataset = load_dataset(\"undata_ls\")\n",
        "# undata_crp_dataset = load_dataset(\"undata_crp\")\n",
        "# undata_fish_dataset = load_dataset(\"undata_fish\")\n",
        "# undata_need_dataset = load_dataset(\"undata_need\")\n",
        "# undata_shock_dataset = load_dataset(\"undata_shock\")\n",
        "# undata_income_dataset = load_dataset(\"undata_income\")\n",
        "# undata_hh_dataset = load_dataset(\"undata_hh\")\n",
        "# undata_assistance_dataset = load_dataset(\"undata_assistance\")\n",
        "# undata_resp_dataset = load_dataset(\"undata_resp\")\n",
        "# undata_adm_dataset = load_dataset(\"undata_adm\")\n",
        "# undata_other_dataset = load_dataset(\"undata_other\")\n",
        "\n",
        "joined_data = undata_ls_dataset[ls].join(\n",
        "    undata_crp_dataset[crp], on=\"objectid\", how=\"inner\", rsuffix=\"_crp\"\n",
        ").join(\n",
        "#     undata_fish_dataset[fish], on=\"objectid\", how=\"inner\", rsuffix=\"_fish\"\n",
        "# ).join(\n",
        "    undata_need_dataset[need_received], on=\"objectid\", how=\"inner\", rsuffix=\"_need\"\n",
        ").join(\n",
        "    undata_shock_dataset[shock], on=\"objectid\", how=\"inner\", rsuffix=\"_shock\"\n",
        ").join(\n",
        "    undata_income_dataset[income], on=\"objectid\", how=\"inner\", rsuffix=\"_income\"\n",
        ").join(\n",
        "#     undata_hh_dataset[hh], on=\"objectid\", how=\"inner\", rsuffix=\"_hh\"\n",
        "# ).join(\n",
        "#     undata_assistance_dataset[assistance], on=\"objectid\", how=\"inner\", rsuffix=\"_assistance\"\n",
        "# ).join(\n",
        "    undata_adm_dataset[adm], on=\"objectid\", how=\"inner\", rsuffix=\"_adm\"\n",
        ").join(\n",
        "    undata_other_dataset[other], on=\"objectid\", how=\"inner\", rsuffix=\"_other\"\n",
        ").copy()\n",
        "\n",
        "# joined_data = op_pandas.merge(undata_ls_dataset[ls], undata_crp_dataset[crp], on=\"objectid\").dropna().copy()\n",
        "# joined_data = op_pandas.merge(joined_data, undata_fish_dataset[fish], on=\"objectid\").dropna().copy()\n",
        "# joined_data = op_pandas.merge(joined_data,undata_need_dataset[need_received] , on=\"objectid\").dropna().copy()\n",
        "# joined_data = op_pandas.merge(joined_data, undata_shock_dataset[shock], on=\"objectid\").dropna().copy()\n",
        "# joined_data = op_pandas.merge(joined_data, undata_income_dataset[income], on=\"objectid\").dropna().copy()\n",
        "# joined_data = op_pandas.merge(joined_data, undata_hh_dataset[hh], on=\"objectid\").dropna().copy()\n",
        "# joined_data = op_pandas.merge(joined_data, undata_assistance_dataset[assistance], on=\"objectid\").dropna().copy()\n",
        "# joined_data = op_pandas.merge(joined_data, undata_adm_dataset[adm], on=\"objectid\").dropna().copy()\n",
        "# joined_data = op_pandas.merge(joined_data, undata_other_dataset[other], on=\"objectid\").dropna().copy()"
      ],
      "metadata": {
        "id": "JDGcH4_RPkea"
      },
      "execution_count": 271,
      "outputs": []
    },
    {
      "cell_type": "code",
      "source": [
        "%%ag\n",
        "ag_print(\"Joined Data Columns: \\n\", joined_data.columns)\n",
        "ag_print(\"Joined Data Num Columns: \\n\", len(joined_data.columns))\n",
        "ag_print(\"Joined Data Columns: \\n\", joined_data.dtypes)\n",
        "ag_print(\"Joined Data Columns: \\n\", joined_data.metadata)"
      ],
      "metadata": {
        "colab": {
          "base_uri": "https://localhost:8080/"
        },
        "id": "soZKAPFdNLKX",
        "outputId": "59a6f294-bc27-450a-b571-e675e092dcdd"
      },
      "execution_count": 203,
      "outputs": [
        {
          "output_type": "stream",
          "name": "stdout",
          "text": [
            "Joined Data Columns: \n",
            " Index(['objectid', 'ls_num_lastyr', 'ls_num_now', 'ls_num_diff',\n",
            "       'ls_num_increased', 'ls_num_decreased', 'ls_num_no_change',\n",
            "       'ls_num_inc_less_sales', 'ls_num_inc_more_birth',\n",
            "       'ls_num_inc_more_acquired', 'ls_num_inc_received_free',\n",
            "       'ls_num_dec_poor_health', 'ls_num_dec_death',\n",
            "       'ls_num_dec_sales_good_price', 'ls_num_dec_sales_distress',\n",
            "       'ls_num_dec_escape_stolen', 'ls_num_dec_consumed',\n",
            "       'ls_num_inc_dec_other', 'ls_num_inc_dec_dk', 'ls_num_inc_dec_ref',\n",
            "       'ls_feed_open_pasture', 'ls_feed_common_pasture',\n",
            "       'ls_feed_self_produced', 'ls_feed_purchased', 'ls_feed_free_dist',\n",
            "       'ls_feed_other', 'ls_feed_dk', 'ls_feed_ref', 'objectid_crp',\n",
            "       'crp_landsize_ha', 'crp_main', 'crp_main_check', 'crp_irrig_source',\n",
            "       'crp_irrig_system', 'crp_irrig_pay', 'crp_seed_ownprod',\n",
            "       'crp_seed_market', 'crp_seed_company', 'crp_seed_ngo',\n",
            "       'crp_seed_organized_community', 'crp_seed_gov',\n",
            "       'crp_seed_relatives_friends', 'crp_seed_other', 'crp_seed_dk',\n",
            "       'crp_seed_ref', 'crp_area_change', 'crp_harv_change', 'crp_harv_vol_kg',\n",
            "       'crp_harv_lastyr_kg', 'crp_proddif', 'crp_proddif_plant_disease',\n",
            "       'crp_proddif_pest_outbreak', 'crp_proddif_animal_grazing',\n",
            "       'crp_proddif_access_plot', 'crp_proddif_access_fertilize',\n",
            "       'crp_proddif_seed_quality', 'crp_proddif_seed_quantity',\n",
            "       'crp_proddif_access_pesticide', 'crp_proddif_access_labour',\n",
            "       'crp_proddif_access_machinery', 'crp_proddif_access_fuel',\n",
            "       'crp_proddif_soil_erosion', 'crp_proddif_lack_irrigation',\n",
            "       'crp_proddif_excess_water', 'crp_proddif_access_credit',\n",
            "       'crp_proddif_other', 'crp_proddif_dk', 'crp_proddif_ref', 'crp_storage',\n",
            "       'objectid_other', 'lcsi'],\n",
            "      dtype='object')\n",
            "Joined Data Num Columns: \n",
            " 71\n",
            "Joined Data Columns: \n",
            " objectid              int64\n",
            "ls_num_lastyr       float64\n",
            "ls_num_now          float64\n",
            "ls_num_diff         float64\n",
            "ls_num_increased    float64\n",
            "                     ...   \n",
            "crp_proddif_dk      float64\n",
            "crp_proddif_ref     float64\n",
            "crp_storage         float64\n",
            "objectid_other        int64\n",
            "lcsi                float64\n",
            "Length: 71, dtype: object\n",
            "Joined Data Columns: \n",
            " {'objectid': (3496, 239871), 'ls_num_lastyr': (0.0, 200000.0), 'ls_num_now': (0.0, 200000.0), 'ls_num_diff': (-99955.0, 18000.0), 'ls_num_increased': (0.0, 1.0), 'ls_num_decreased': (0.0, 1.0), 'ls_num_no_change': (0.0, 1.0), 'ls_num_inc_less_sales': (0.0, 1.0), 'ls_num_inc_more_birth': (0.0, 1.0), 'ls_num_inc_more_acquired': (0.0, 1.0), 'ls_num_inc_received_free': (0.0, 1.0), 'ls_num_dec_poor_health': (0.0, 1.0), 'ls_num_dec_death': (0.0, 1.0), 'ls_num_dec_sales_good_price': (0.0, 1.0), 'ls_num_dec_sales_distress': (0.0, 1.0), 'ls_num_dec_escape_stolen': (0.0, 1.0), 'ls_num_dec_consumed': (0.0, 1.0), 'ls_num_inc_dec_other': (0.0, 1.0), 'ls_num_inc_dec_dk': (0.0, 1.0), 'ls_num_inc_dec_ref': (0.0, 1.0), 'ls_feed_open_pasture': (0.0, 1.0), 'ls_feed_common_pasture': (0.0, 1.0), 'ls_feed_self_produced': (0.0, 1.0), 'ls_feed_purchased': (0.0, 1.0), 'ls_feed_free_dist': (0.0, 1.0), 'ls_feed_other': (0.0, 1.0), 'ls_feed_dk': (0.0, 1.0), 'ls_feed_ref': (0.0, 1.0), 'crp_landsize_ha': (0.0, 1720011.39965233), 'crp_main': (1100.0, 999000.0), 'crp_main_check': (0.0, 2.0), 'crp_irrig_source': (1.0, 999.0), 'crp_irrig_system': (0.0, 888.0), 'crp_irrig_pay': (0.0, 1.0), 'crp_seed_ownprod': (0.0, 1.0), 'crp_seed_market': (0.0, 1.0), 'crp_seed_company': (0.0, 1.0), 'crp_seed_ngo': (0.0, 1.0), 'crp_seed_organized_community': (0.0, 1.0), 'crp_seed_gov': (0.0, 1.0), 'crp_seed_relatives_friends': (0.0, 1.0), 'crp_seed_other': (0.0, 1.0), 'crp_seed_dk': (0.0, 1.0), 'crp_seed_ref': (0.0, 1.0), 'crp_area_change': (1.0, 999.0), 'crp_harv_change': (1.0, 999.0), 'crp_harv_vol_kg': (0.0, 0.0), 'crp_harv_lastyr_kg': (0.0, 20000.0), 'crp_proddif': (0.0, 999.0), 'crp_proddif_plant_disease': (0.0, 1.0), 'crp_proddif_pest_outbreak': (0.0, 1.0), 'crp_proddif_animal_grazing': (0.0, 1.0), 'crp_proddif_access_plot': (0.0, 1.0), 'crp_proddif_access_fertilize': (0.0, 1.0), 'crp_proddif_seed_quality': (0.0, 1.0), 'crp_proddif_seed_quantity': (0.0, 1.0), 'crp_proddif_access_pesticide': (0.0, 1.0), 'crp_proddif_access_labour': (0.0, 1.0), 'crp_proddif_access_machinery': (0.0, 1.0), 'crp_proddif_access_fuel': (0.0, 1.0), 'crp_proddif_soil_erosion': (0.0, 1.0), 'crp_proddif_lack_irrigation': (0.0, 1.0), 'crp_proddif_excess_water': (0.0, 1.0), 'crp_proddif_access_credit': (0.0, 1.0), 'crp_proddif_other': (0.0, 1.0), 'crp_proddif_dk': (0.0, 1.0), 'crp_proddif_ref': (0.0, 1.0), 'crp_storage': (0.0, 999.0), 'lcsi': (0.0, 3.0)}\n",
            "\n"
          ]
        }
      ]
    },
    {
      "cell_type": "code",
      "source": [
        "%%ag\n",
        "x_cols = []\n",
        "for col, metadata in joined_data.metadata.items():\n",
        "  if metadata[1] <= 1:\n",
        "    x_cols.append(col)\n",
        "\n",
        "\n",
        "#landzise ha rellenar\n",
        "# ls num now rellenar\n",
        "# crp_main rellenar, 999000 y 888000\n",
        "# crp_irrig_source, 888, 999 666\n",
        "# crp_irrig_system 888 999\n",
        "# crp_area_change 888 999\n",
        "# crp_harv_change 888 999\n",
        "# crp_proddif 888 999\n"
      ],
      "metadata": {
        "id": "8Cdec1sLoakv"
      },
      "execution_count": 272,
      "outputs": []
    },
    {
      "cell_type": "code",
      "source": [
        "%%ag\n",
        "ag_print(x_cols)\n",
        "y_cols = \"lcsi\""
      ],
      "metadata": {
        "colab": {
          "base_uri": "https://localhost:8080/"
        },
        "id": "CjFtkO9Ot67H",
        "outputId": "dee457e8-3e5b-4460-aa8f-e1809e0af547"
      },
      "execution_count": 235,
      "outputs": [
        {
          "output_type": "stream",
          "name": "stdout",
          "text": [
            "['ls_num_increased', 'ls_num_decreased', 'ls_num_no_change', 'ls_num_inc_less_sales', 'ls_num_inc_more_birth', 'ls_num_inc_more_acquired', 'ls_num_inc_received_free', 'ls_num_dec_poor_health', 'ls_num_dec_death', 'ls_num_dec_sales_good_price', 'ls_num_dec_sales_distress', 'ls_num_dec_escape_stolen', 'ls_num_dec_consumed', 'ls_num_inc_dec_other', 'ls_num_inc_dec_dk', 'ls_num_inc_dec_ref', 'ls_feed_open_pasture', 'ls_feed_common_pasture', 'ls_feed_self_produced', 'ls_feed_purchased', 'ls_feed_free_dist', 'ls_feed_other', 'ls_feed_dk', 'ls_feed_ref', 'crp_irrig_pay', 'crp_seed_ownprod', 'crp_seed_market', 'crp_seed_company', 'crp_seed_ngo', 'crp_seed_organized_community', 'crp_seed_gov', 'crp_seed_relatives_friends', 'crp_seed_other', 'crp_seed_dk', 'crp_seed_ref', 'crp_harv_vol_kg', 'crp_proddif_plant_disease', 'crp_proddif_pest_outbreak', 'crp_proddif_animal_grazing', 'crp_proddif_access_plot', 'crp_proddif_access_fertilize', 'crp_proddif_seed_quality', 'crp_proddif_seed_quantity', 'crp_proddif_access_pesticide', 'crp_proddif_access_labour', 'crp_proddif_access_machinery', 'crp_proddif_access_fuel', 'crp_proddif_soil_erosion', 'crp_proddif_lack_irrigation', 'crp_proddif_excess_water', 'crp_proddif_access_credit', 'crp_proddif_other', 'crp_proddif_dk', 'crp_proddif_ref', 'fish_main_coastal', 'fish_main_offshore_sea', 'fish_main_freshwater', 'fish_main_aquaculture', 'fish_main_dk', 'fish_main_ref', 'need_received_food', 'need_received_cash', 'need_received_vouchers_fair', 'need_received_crop_assist', 'need_received_ls_assist', 'need_received_fish_assist', 'need_received_rehabilitation', 'need_received_sales_support', 'need_received_other', 'need_received_none', 'need_received_dk', 'need_received_ref', 'shock_noshock', 'shock_sicknessordeathofhh', 'shock_lostemplorwork', 'shock_otherintrahhshock', 'shock_higherfoodprices', 'shock_higherfuelprices', 'shock_mvtrestrict', 'shock_othereconomicshock', 'shock_pestoutbreak', 'shock_plantdisease', 'shock_animaldisease', 'shock_napasture', 'shock_othercropandlivests', 'shock_coldtemporhail', 'shock_flood', 'shock_hurricane', 'shock_drought', 'shock_earthquake', 'shock_landslides', 'shock_firenatural', 'shock_othernathazard', 'shock_violenceinsecconf', 'shock_theftofprodassets', 'shock_firemanmade', 'shock_othermanmadehazard', 'shock_dk', 'shock_ref', 'assistance_fao', 'assistance_wfp', 'assistance_otherun', 'assistance_gov', 'assistance_ngo', 'assistance_dk', 'assistance_ref']\n",
            "\n"
          ]
        }
      ]
    },
    {
      "cell_type": "markdown",
      "source": [
        "# Hello"
      ],
      "metadata": {
        "id": "z29jZQgnQVQC"
      }
    },
    {
      "cell_type": "code",
      "source": [
        "%%ag\n",
        "ag_print(X.count(eps=1e-20))"
      ],
      "metadata": {
        "colab": {
          "base_uri": "https://localhost:8080/"
        },
        "id": "Qy3rI4WeWbrQ",
        "outputId": "0884e0e4-545d-417a-e144-ff3d03c2660e"
      },
      "execution_count": 217,
      "outputs": [
        {
          "output_type": "stream",
          "name": "stdout",
          "text": [
            "ls_num_lastyr                         0\n",
            "ls_num_now                            0\n",
            "ls_num_diff                           0\n",
            "ls_num_increased             2147483647\n",
            "ls_num_decreased             2147483647\n",
            "                                ...    \n",
            "crp_proddif_access_credit             0\n",
            "crp_proddif_other            2147483647\n",
            "crp_proddif_dk                        0\n",
            "crp_proddif_ref              2147483647\n",
            "crp_storage                           0\n",
            "Length: 67, dtype: int64\n",
            "\n"
          ]
        }
      ]
    },
    {
      "cell_type": "code",
      "source": [
        "%%ag\n",
        "\n",
        "X = joined_data[x_columns].copy()\n",
        "Y = joined_data[y_columns].copy()"
      ],
      "metadata": {
        "id": "V6mvhx_6Wvoc"
      },
      "execution_count": 277,
      "outputs": []
    },
    {
      "cell_type": "code",
      "source": [
        "%%ag\n",
        "[0] * len(x_cols)"
      ],
      "metadata": {
        "colab": {
          "base_uri": "https://localhost:8080/"
        },
        "id": "9B4CpfSYx5BK",
        "outputId": "5eeb8e66-2e6c-49ea-b211-6120ab8684db"
      },
      "execution_count": 254,
      "outputs": [
        {
          "output_type": "stream",
          "name": "stderr",
          "text": [
            "Kernel interrupted successfully\n"
          ]
        }
      ]
    },
    {
      "cell_type": "code",
      "source": [
        "import pandas as pd\n",
        "import numpy as np\n",
        "\n",
        "s = pd.Series([0,np.NaN,1])\n",
        "s.isna()"
      ],
      "metadata": {
        "colab": {
          "base_uri": "https://localhost:8080/"
        },
        "id": "cFnOzNde0V-0",
        "outputId": "6258bb71-89d5-4ddf-8000-500c96f1f69a"
      },
      "execution_count": 269,
      "outputs": [
        {
          "output_type": "execute_result",
          "data": {
            "text/plain": [
              "0    False\n",
              "1     True\n",
              "2    False\n",
              "dtype: bool"
            ]
          },
          "metadata": {},
          "execution_count": 269
        }
      ]
    },
    {
      "cell_type": "code",
      "source": [
        "%%ag\n",
        "for column in X.columns:\n",
        "  X[f\"{column}_nanless\"] = X[column][X[column] == pd.nan]\n",
        "\n",
        "ag_print"
      ],
      "metadata": {
        "colab": {
          "base_uri": "https://localhost:8080/"
        },
        "id": "mj9ovDICvTPc",
        "outputId": "4fafc74c-5a4c-458f-f771-12491df22fd1"
      },
      "execution_count": 255,
      "outputs": [
        {
          "output_type": "stream",
          "name": "stdout",
          "text": [
            "\u001b[0;31mKeyboardInterrupt\u001b[0m: \n"
          ]
        }
      ]
    },
    {
      "cell_type": "code",
      "source": [
        "%%ag\n",
        "from op_diffprivlib.models import StandardScaler\n",
        "\n",
        "sc_y = StandardScaler(bounds=bounds, epsilon=1e-20)\n",
        "sc_y.mean_ = [0]\n",
        "sc_y.var_ = [1]\n",
        "\n",
        "X_transformed = sc.fit(X)"
      ],
      "metadata": {
        "id": "YRRlsZDGwzVh"
      },
      "execution_count": null,
      "outputs": []
    },
    {
      "cell_type": "code",
      "source": [
        "%%ag\n",
        "from op_diffprivlib.models import RandomForestClassifier\n",
        "\n",
        "classes = [0,1,2,3]\n",
        "l_meta, r_meta = [], []\n",
        "for l,r in X.metadata.values():\n",
        "  l_meta.append(l)\n",
        "  r_meta.append(r)\n",
        "bounds = ( l_meta , r_meta ) # ([lower] , [upper])\n",
        "model = RandomForestClassifier(n_estimators=100, epsilon = 1e-20 , random_state=0 , bounds=bounds , classes=classes)"
      ],
      "metadata": {
        "id": "4kueZ8iTY8Xq"
      },
      "execution_count": 278,
      "outputs": []
    },
    {
      "cell_type": "code",
      "source": [
        "%%ag\n",
        "model.fit(X.dropna(),Y)"
      ],
      "metadata": {
        "colab": {
          "base_uri": "https://localhost:8080/"
        },
        "id": "Qg2R9VAsaHPJ",
        "outputId": "59b90318-105d-416a-c389-d38603f22b4b"
      },
      "execution_count": 279,
      "outputs": [
        {
          "output_type": "stream",
          "name": "stdout",
          "text": [
            "\u001b[0;31mValueError\u001b[0m: Found array with 0 sample(s) (shape=(0, 67)) while a minimum of 1 is required by RandomForestClassifier.\n"
          ]
        }
      ]
    },
    {
      "cell_type": "code",
      "source": [
        "%%ag\n",
        "Y = model.predict(x)\n",
        "export(Y , \"output_y\")"
      ],
      "metadata": {
        "colab": {
          "base_uri": "https://localhost:8080/"
        },
        "id": "q8HlkJmAbDiM",
        "outputId": "da6bc23b-3e7d-4637-a5be-2ff754b43472"
      },
      "execution_count": 33,
      "outputs": [
        {
          "output_type": "stream",
          "name": "stdout",
          "text": [
            "Setting up exported variable in local environment: output_y\n"
          ]
        }
      ]
    },
    {
      "cell_type": "code",
      "source": [
        "%%ag\n",
        "model"
      ],
      "metadata": {
        "id": "puia7zKD3tdW"
      },
      "execution_count": 281,
      "outputs": []
    },
    {
      "cell_type": "code",
      "source": [
        "import numpy as np\n",
        "import matplotlib.pyplot as plt\n",
        "\n",
        "# Create a NumPy array of integers (example data)\n",
        "\n",
        "# Create a histogram\n",
        "plt.hist(output_y, bins=[0.0, 1.0, 2.0,3.0,4.0,888.0,999.0], edgecolor='k')  # Adjust the number of bins as needed\n",
        "plt.xlabel('Value')\n",
        "plt.ylabel('Frequency')\n",
        "plt.title('Histogram of Integers')\n",
        "plt.grid(True)\n",
        "\n",
        "# Show the plot\n",
        "plt.show()"
      ],
      "metadata": {
        "colab": {
          "base_uri": "https://localhost:8080/",
          "height": 472
        },
        "id": "Ng8l2Pv5bMJ4",
        "outputId": "ffefd942-34ae-4487-8048-b54f91fcc6cb"
      },
      "execution_count": 78,
      "outputs": [
        {
          "output_type": "display_data",
          "data": {
            "text/plain": [
              "<Figure size 640x480 with 1 Axes>"
            ],
            "image/png": "[encoded data removed]"
          },
          "metadata": {}
        }
      ]
    },
    {
      "cell_type": "code",
      "source": [],
      "metadata": {
        "id": "Zgxo3Qo1ETpJ"
      },
      "execution_count": null,
      "outputs": []
    },
    {
      "cell_type": "code",
      "source": [
        "import pandas as pd\n",
        "\n",
        "pd.DataFrame(output_y).value_counts()"
      ],
      "metadata": {
        "colab": {
          "base_uri": "https://localhost:8080/"
        },
        "id": "N2LYgekYD7Bk",
        "outputId": "6f3ba7f0-8f1e-433b-c495-ba95d8224b3f"
      },
      "execution_count": 81,
      "outputs": [
        {
          "output_type": "execute_result",
          "data": {
            "text/plain": [
              "888    81331\n",
              "1       3785\n",
              "2       2658\n",
              "999      764\n",
              "4        588\n",
              "3         74\n",
              "dtype: int64"
            ]
          },
          "metadata": {},
          "execution_count": 81
        }
      ]
    },
    {
      "cell_type": "code",
      "source": [],
      "metadata": {
        "id": "naiTIH1XEGYm"
      },
      "execution_count": null,
      "outputs": []
    },
    {
      "cell_type": "code",
      "source": [
        "import pandas as pd\n",
        "\n",
        "data = pd.read_csv(\"res_df2.csv\")"
      ],
      "metadata": {
        "id": "T6jVFj6BbRQl"
      },
      "execution_count": 282,
      "outputs": []
    },
    {
      "cell_type": "code",
      "source": [
        "data"
      ],
      "metadata": {
        "colab": {
          "base_uri": "https://localhost:8080/",
          "height": 424
        },
        "id": "PnGSE83Arlrh",
        "outputId": "75e27281-d2a0-4396-cd99-df2e687c1398"
      },
      "execution_count": 283,
      "outputs": [
        {
          "output_type": "execute_result",
          "data": {
            "text/plain": [
              "     Unnamed: 0        fcs  fcs_staple_days  fcs_pulses_days  \\\n",
              "0             0  38.887759         4.901486         1.910679   \n",
              "1             1  40.036752         4.751127         2.253419   \n",
              "2             2  42.279064         4.650400         1.881639   \n",
              "3             3  55.128452         5.324724         2.178517   \n",
              "4             4  42.484212         4.654251         1.683959   \n",
              "..          ...        ...              ...              ...   \n",
              "307         307  -1.040691         3.795500         1.319359   \n",
              "308         308 -95.425241        -7.296553         0.000000   \n",
              "309         309  56.310637         0.000000        30.442019   \n",
              "310         310 -32.299970         5.697927         4.059133   \n",
              "311         311 -22.446485         1.765431         1.000219   \n",
              "\n",
              "     fcs_vegetables_days adm1_pcode  inter_round  \n",
              "0               2.551534       AF01          7.0  \n",
              "1               3.386363       AF02          7.0  \n",
              "2               3.063906       AF03          7.0  \n",
              "3               3.662174       AF04          7.0  \n",
              "4               4.246831       AF05          7.0  \n",
              "..                   ...        ...          ...  \n",
              "307             4.986329       YE31         11.0  \n",
              "308          -379.764217       YE32          6.0  \n",
              "309            -4.869216       YE32          7.0  \n",
              "310             9.371888       YE32         10.0  \n",
              "311             6.719476       YE32         11.0  \n",
              "\n",
              "[312 rows x 7 columns]"
            ],
            "text/html": [
              "\n",
              "  <div id=\"df-fc7dc1d0-7d78-499e-800c-6bac09ea7290\" class=\"colab-df-container\">\n",
              "    <div>\n",
              "<style scoped>\n",
              "    .dataframe tbody tr th:only-of-type {\n",
              "        vertical-align: middle;\n",
              "    }\n",
              "\n",
              "    .dataframe tbody tr th {\n",
              "        vertical-align: top;\n",
              "    }\n",
              "\n",
              "    .dataframe thead th {\n",
              "        text-align: right;\n",
              "    }\n",
              "</style>\n",
              "<table border=\"1\" class=\"dataframe\">\n",
              "  <thead>\n",
              "    <tr style=\"text-align: right;\">\n",
              "      <th></th>\n",
              "      <th>Unnamed: 0</th>\n",
              "      <th>fcs</th>\n",
              "      <th>fcs_staple_days</th>\n",
              "      <th>fcs_pulses_days</th>\n",
              "      <th>fcs_vegetables_days</th>\n",
              "      <th>adm1_pcode</th>\n",
              "      <th>inter_round</th>\n",
              "    </tr>\n",
              "  </thead>\n",
              "  <tbody>\n",
              "    <tr>\n",
              "      <th>0</th>\n",
              "      <td>0</td>\n",
              "      <td>38.887759</td>\n",
              "      <td>4.901486</td>\n",
              "      <td>1.910679</td>\n",
              "      <td>2.551534</td>\n",
              "      <td>AF01</td>\n",
              "      <td>7.0</td>\n",
              "    </tr>\n",
              "    <tr>\n",
              "      <th>1</th>\n",
              "      <td>1</td>\n",
              "      <td>40.036752</td>\n",
              "      <td>4.751127</td>\n",
              "      <td>2.253419</td>\n",
              "      <td>3.386363</td>\n",
              "      <td>AF02</td>\n",
              "      <td>7.0</td>\n",
              "    </tr>\n",
              "    <tr>\n",
              "      <th>2</th>\n",
              "      <td>2</td>\n",
              "      <td>42.279064</td>\n",
              "      <td>4.650400</td>\n",
              "      <td>1.881639</td>\n",
              "      <td>3.063906</td>\n",
              "      <td>AF03</td>\n",
              "      <td>7.0</td>\n",
              "    </tr>\n",
              "    <tr>\n",
              "      <th>3</th>\n",
              "      <td>3</td>\n",
              "      <td>55.128452</td>\n",
              "      <td>5.324724</td>\n",
              "      <td>2.178517</td>\n",
              "      <td>3.662174</td>\n",
              "      <td>AF04</td>\n",
              "      <td>7.0</td>\n",
              "    </tr>\n",
              "    <tr>\n",
              "      <th>4</th>\n",
              "      <td>4</td>\n",
              "      <td>42.484212</td>\n",
              "      <td>4.654251</td>\n",
              "      <td>1.683959</td>\n",
              "      <td>4.246831</td>\n",
              "      <td>AF05</td>\n",
              "      <td>7.0</td>\n",
              "    </tr>\n",
              "    <tr>\n",
              "      <th>...</th>\n",
              "      <td>...</td>\n",
              "      <td>...</td>\n",
              "      <td>...</td>\n",
              "      <td>...</td>\n",
              "      <td>...</td>\n",
              "      <td>...</td>\n",
              "      <td>...</td>\n",
              "    </tr>\n",
              "    <tr>\n",
              "      <th>307</th>\n",
              "      <td>307</td>\n",
              "      <td>-1.040691</td>\n",
              "      <td>3.795500</td>\n",
              "      <td>1.319359</td>\n",
              "      <td>4.986329</td>\n",
              "      <td>YE31</td>\n",
              "      <td>11.0</td>\n",
              "    </tr>\n",
              "    <tr>\n",
              "      <th>308</th>\n",
              "      <td>308</td>\n",
              "      <td>-95.425241</td>\n",
              "      <td>-7.296553</td>\n",
              "      <td>0.000000</td>\n",
              "      <td>-379.764217</td>\n",
              "      <td>YE32</td>\n",
              "      <td>6.0</td>\n",
              "    </tr>\n",
              "    <tr>\n",
              "      <th>309</th>\n",
              "      <td>309</td>\n",
              "      <td>56.310637</td>\n",
              "      <td>0.000000</td>\n",
              "      <td>30.442019</td>\n",
              "      <td>-4.869216</td>\n",
              "      <td>YE32</td>\n",
              "      <td>7.0</td>\n",
              "    </tr>\n",
              "    <tr>\n",
              "      <th>310</th>\n",
              "      <td>310</td>\n",
              "      <td>-32.299970</td>\n",
              "      <td>5.697927</td>\n",
              "      <td>4.059133</td>\n",
              "      <td>9.371888</td>\n",
              "      <td>YE32</td>\n",
              "      <td>10.0</td>\n",
              "    </tr>\n",
              "    <tr>\n",
              "      <th>311</th>\n",
              "      <td>311</td>\n",
              "      <td>-22.446485</td>\n",
              "      <td>1.765431</td>\n",
              "      <td>1.000219</td>\n",
              "      <td>6.719476</td>\n",
              "      <td>YE32</td>\n",
              "      <td>11.0</td>\n",
              "    </tr>\n",
              "  </tbody>\n",
              "</table>\n",
              "<p>312 rows × 7 columns</p>\n",
              "</div>\n",
              "    <div class=\"colab-df-buttons\">\n",
              "\n",
              "  <div class=\"colab-df-container\">\n",
              "    <button class=\"colab-df-convert\" onclick=\"convertToInteractive('df-fc7dc1d0-7d78-499e-800c-6bac09ea7290')\"\n",
              "            title=\"Convert this dataframe to an interactive table.\"\n",
              "            style=\"display:none;\">\n",
              "\n",
              "  <svg xmlns=\"http://www.w3.org/2000/svg\" height=\"24px\" viewBox=\"0 -960 960 960\">\n",
              "    <path d=\"M120-120v-720h720v720H120Zm60-500h600v-160H180v160Zm220 220h160v-160H400v160Zm0 220h160v-160H400v160ZM180-400h160v-160H180v160Zm440 0h160v-160H620v160ZM180-180h160v-160H180v160Zm440 0h160v-160H620v160Z\"/>\n",
              "  </svg>\n",
              "    </button>\n",
              "\n",
              "  <style>\n",
              "    .colab-df-container {\n",
              "      display:flex;\n",
              "      gap: 12px;\n",
              "    }\n",
              "\n",
              "    .colab-df-convert {\n",
              "      background-color: #E8F0FE;\n",
              "      border: none;\n",
              "      border-radius: 50%;\n",
              "      cursor: pointer;\n",
              "      display: none;\n",
              "      fill: #1967D2;\n",
              "      height: 32px;\n",
              "      padding: 0 0 0 0;\n",
              "      width: 32px;\n",
              "    }\n",
              "\n",
              "    .colab-df-convert:hover {\n",
              "      background-color: #E2EBFA;\n",
              "      box-shadow: 0px 1px 2px rgba(60, 64, 67, 0.3), 0px 1px 3px 1px rgba(60, 64, 67, 0.15);\n",
              "      fill: #174EA6;\n",
              "    }\n",
              "\n",
              "    .colab-df-buttons div {\n",
              "      margin-bottom: 4px;\n",
              "    }\n",
              "\n",
              "    [theme=dark] .colab-df-convert {\n",
              "      background-color: #3B4455;\n",
              "      fill: #D2E3FC;\n",
              "    }\n",
              "\n",
              "    [theme=dark] .colab-df-convert:hover {\n",
              "      background-color: #434B5C;\n",
              "      box-shadow: 0px 1px 3px 1px rgba(0, 0, 0, 0.15);\n",
              "      filter: drop-shadow(0px 1px 2px rgba(0, 0, 0, 0.3));\n",
              "      fill: #FFFFFF;\n",
              "    }\n",
              "  </style>\n",
              "\n",
              "    <script>\n",
              "      const buttonEl =\n",
              "        document.querySelector('#df-fc7dc1d0-7d78-499e-800c-6bac09ea7290 button.colab-df-convert');\n",
              "      buttonEl.style.display =\n",
              "        google.colab.kernel.accessAllowed ? 'block' : 'none';\n",
              "\n",
              "      async function convertToInteractive(key) {\n",
              "        const element = document.querySelector('#df-fc7dc1d0-7d78-499e-800c-6bac09ea7290');\n",
              "        const dataTable =\n",
              "          await google.colab.kernel.invokeFunction('convertToInteractive',\n",
              "                                                    [key], {});\n",
              "        if (!dataTable) return;\n",
              "\n",
              "        const docLinkHtml = 'Like what you see? Visit the ' +\n",
              "          '<a target=\"_blank\" href=https://colab.research.google.com/notebooks/data_table.ipynb>data table notebook</a>'\n",
              "          + ' to learn more about interactive tables.';\n",
              "        element.innerHTML = '';\n",
              "        dataTable['output_type'] = 'display_data';\n",
              "        await google.colab.output.renderOutput(dataTable, element);\n",
              "        const docLink = document.createElement('div');\n",
              "        docLink.innerHTML = docLinkHtml;\n",
              "        element.appendChild(docLink);\n",
              "      }\n",
              "    </script>\n",
              "  </div>\n",
              "\n",
              "\n",
              "<div id=\"df-1bc3f637-4812-4d10-b63d-931717bc406a\">\n",
              "  <button class=\"colab-df-quickchart\" onclick=\"quickchart('df-1bc3f637-4812-4d10-b63d-931717bc406a')\"\n",
              "            title=\"Suggest charts.\"\n",
              "            style=\"display:none;\">\n",
              "\n",
              "<svg xmlns=\"http://www.w3.org/2000/svg\" height=\"24px\"viewBox=\"0 0 24 24\"\n",
              "     width=\"24px\">\n",
              "    <g>\n",
              "        <path d=\"M19 3H5c-1.1 0-2 .9-2 2v14c0 1.1.9 2 2 2h14c1.1 0 2-.9 2-2V5c0-1.1-.9-2-2-2zM9 17H7v-7h2v7zm4 0h-2V7h2v10zm4 0h-2v-4h2v4z\"/>\n",
              "    </g>\n",
              "</svg>\n",
              "  </button>\n",
              "\n",
              "<style>\n",
              "  .colab-df-quickchart {\n",
              "      --bg-color: #E8F0FE;\n",
              "      --fill-color: #1967D2;\n",
              "      --hover-bg-color: #E2EBFA;\n",
              "      --hover-fill-color: #174EA6;\n",
              "      --disabled-fill-color: #AAA;\n",
              "      --disabled-bg-color: #DDD;\n",
              "  }\n",
              "\n",
              "  [theme=dark] .colab-df-quickchart {\n",
              "      --bg-color: #3B4455;\n",
              "      --fill-color: #D2E3FC;\n",
              "      --hover-bg-color: #434B5C;\n",
              "      --hover-fill-color: #FFFFFF;\n",
              "      --disabled-bg-color: #3B4455;\n",
              "      --disabled-fill-color: #666;\n",
              "  }\n",
              "\n",
              "  .colab-df-quickchart {\n",
              "    background-color: var(--bg-color);\n",
              "    border: none;\n",
              "    border-radius: 50%;\n",
              "    cursor: pointer;\n",
              "    display: none;\n",
              "    fill: var(--fill-color);\n",
              "    height: 32px;\n",
              "    padding: 0;\n",
              "    width: 32px;\n",
              "  }\n",
              "\n",
              "  .colab-df-quickchart:hover {\n",
              "    background-color: var(--hover-bg-color);\n",
              "    box-shadow: 0 1px 2px rgba(60, 64, 67, 0.3), 0 1px 3px 1px rgba(60, 64, 67, 0.15);\n",
              "    fill: var(--button-hover-fill-color);\n",
              "  }\n",
              "\n",
              "  .colab-df-quickchart-complete:disabled,\n",
              "  .colab-df-quickchart-complete:disabled:hover {\n",
              "    background-color: var(--disabled-bg-color);\n",
              "    fill: var(--disabled-fill-color);\n",
              "    box-shadow: none;\n",
              "  }\n",
              "\n",
              "  .colab-df-spinner {\n",
              "    border: 2px solid var(--fill-color);\n",
              "    border-color: transparent;\n",
              "    border-bottom-color: var(--fill-color);\n",
              "    animation:\n",
              "      spin 1s steps(1) infinite;\n",
              "  }\n",
              "\n",
              "  @keyframes spin {\n",
              "    0% {\n",
              "      border-color: transparent;\n",
              "      border-bottom-color: var(--fill-color);\n",
              "      border-left-color: var(--fill-color);\n",
              "    }\n",
              "    20% {\n",
              "      border-color: transparent;\n",
              "      border-left-color: var(--fill-color);\n",
              "      border-top-color: var(--fill-color);\n",
              "    }\n",
              "    30% {\n",
              "      border-color: transparent;\n",
              "      border-left-color: var(--fill-color);\n",
              "      border-top-color: var(--fill-color);\n",
              "      border-right-color: var(--fill-color);\n",
              "    }\n",
              "    40% {\n",
              "      border-color: transparent;\n",
              "      border-right-color: var(--fill-color);\n",
              "      border-top-color: var(--fill-color);\n",
              "    }\n",
              "    60% {\n",
              "      border-color: transparent;\n",
              "      border-right-color: var(--fill-color);\n",
              "    }\n",
              "    80% {\n",
              "      border-color: transparent;\n",
              "      border-right-color: var(--fill-color);\n",
              "      border-bottom-color: var(--fill-color);\n",
              "    }\n",
              "    90% {\n",
              "      border-color: transparent;\n",
              "      border-bottom-color: var(--fill-color);\n",
              "    }\n",
              "  }\n",
              "</style>\n",
              "\n",
              "  <script>\n",
              "    async function quickchart(key) {\n",
              "      const quickchartButtonEl =\n",
              "        document.querySelector('#' + key + ' button');\n",
              "      quickchartButtonEl.disabled = true;  // To prevent multiple clicks.\n",
              "      quickchartButtonEl.classList.add('colab-df-spinner');\n",
              "      try {\n",
              "        const charts = await google.colab.kernel.invokeFunction(\n",
              "            'suggestCharts', [key], {});\n",
              "      } catch (error) {\n",
              "        console.error('Error during call to suggestCharts:', error);\n",
              "      }\n",
              "      quickchartButtonEl.classList.remove('colab-df-spinner');\n",
              "      quickchartButtonEl.classList.add('colab-df-quickchart-complete');\n",
              "    }\n",
              "    (() => {\n",
              "      let quickchartButtonEl =\n",
              "        document.querySelector('#df-1bc3f637-4812-4d10-b63d-931717bc406a button');\n",
              "      quickchartButtonEl.style.display =\n",
              "        google.colab.kernel.accessAllowed ? 'block' : 'none';\n",
              "    })();\n",
              "  </script>\n",
              "</div>\n",
              "    </div>\n",
              "  </div>\n"
            ]
          },
          "metadata": {},
          "execution_count": 283
        }
      ]
    },
    {
      "cell_type": "code",
      "source": [],
      "metadata": {
        "id": "3fdzJGf8D0VJ"
      },
      "execution_count": null,
      "outputs": []
    }
  ]
}